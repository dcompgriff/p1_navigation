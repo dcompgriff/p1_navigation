{
 "cells": [
  {
   "cell_type": "markdown",
   "metadata": {},
   "source": [
    "# Navigation\n",
    "\n",
    "---\n",
    "\n",
    "In this notebook, you will learn how to use the Unity ML-Agents environment for the first project of the [Deep Reinforcement Learning Nanodegree](https://www.udacity.com/course/deep-reinforcement-learning-nanodegree--nd893).\n",
    "\n",
    "### 1. Start the Environment\n",
    "\n",
    "We begin by importing some necessary packages.  If the code cell below returns an error, please revisit the project instructions to double-check that you have installed [Unity ML-Agents](https://github.com/Unity-Technologies/ml-agents/blob/master/docs/Installation.md) and [NumPy](http://www.numpy.org/)."
   ]
  },
  {
   "cell_type": "code",
   "execution_count": 3,
   "metadata": {},
   "outputs": [
    {
     "name": "stdout",
     "output_type": "stream",
     "text": [
      "\u001b[31mtensorflow 1.7.1 has requirement numpy>=1.13.3, but you'll have numpy 1.12.1 which is incompatible.\u001b[0m\r\n",
      "\u001b[31mipython 6.5.0 has requirement prompt-toolkit<2.0.0,>=1.0.15, but you'll have prompt-toolkit 2.0.9 which is incompatible.\u001b[0m\r\n"
     ]
    }
   ],
   "source": [
    "!pip -q install ./python"
   ]
  },
  {
   "cell_type": "code",
   "execution_count": 4,
   "metadata": {},
   "outputs": [],
   "source": [
    "from unityagents import UnityEnvironment\n",
    "import numpy as np\n",
    "import importlib\n",
    "from collections import deque\n",
    "import matplotlib.pyplot as plt\n",
    "import torch\n"
   ]
  },
  {
   "cell_type": "markdown",
   "metadata": {},
   "source": [
    "Next, we will start the environment!  **_Before running the code cell below_**, change the `file_name` parameter to match the location of the Unity environment that you downloaded.\n",
    "\n",
    "- **Mac**: `\"path/to/Banana.app\"`\n",
    "- **Windows** (x86): `\"path/to/Banana_Windows_x86/Banana.exe\"`\n",
    "- **Windows** (x86_64): `\"path/to/Banana_Windows_x86_64/Banana.exe\"`\n",
    "- **Linux** (x86): `\"path/to/Banana_Linux/Banana.x86\"`\n",
    "- **Linux** (x86_64): `\"path/to/Banana_Linux/Banana.x86_64\"`\n",
    "- **Linux** (x86, headless): `\"path/to/Banana_Linux_NoVis/Banana.x86\"`\n",
    "- **Linux** (x86_64, headless): `\"path/to/Banana_Linux_NoVis/Banana.x86_64\"`\n",
    "\n",
    "For instance, if you are using a Mac, then you downloaded `Banana.app`.  If this file is in the same folder as the notebook, then the line below should appear as follows:\n",
    "```\n",
    "env = UnityEnvironment(file_name=\"Banana.app\")\n",
    "```"
   ]
  },
  {
   "cell_type": "code",
   "execution_count": 5,
   "metadata": {
    "scrolled": true
   },
   "outputs": [
    {
     "name": "stderr",
     "output_type": "stream",
     "text": [
      "INFO:unityagents:\n",
      "'Academy' started successfully!\n",
      "Unity Academy name: Academy\n",
      "        Number of Brains: 1\n",
      "        Number of External Brains : 1\n",
      "        Lesson number : 0\n",
      "        Reset Parameters :\n",
      "\t\t\n",
      "Unity brain name: BananaBrain\n",
      "        Number of Visual Observations (per agent): 0\n",
      "        Vector Observation space type: continuous\n",
      "        Vector Observation space size (per agent): 37\n",
      "        Number of stacked Vector Observation: 1\n",
      "        Vector Action space type: discrete\n",
      "        Vector Action space size (per agent): 4\n",
      "        Vector Action descriptions: , , , \n"
     ]
    }
   ],
   "source": [
    "# env = UnityEnvironment(file_name=\"Banana.app\")\n",
    "env = UnityEnvironment(file_name=\"/data/Banana_Linux_NoVis/Banana.x86_64\")\n"
   ]
  },
  {
   "cell_type": "markdown",
   "metadata": {},
   "source": [
    "Environments contain **_brains_** which are responsible for deciding the actions of their associated agents. Here we check for the first brain available, and set it as the default brain we will be controlling from Python."
   ]
  },
  {
   "cell_type": "code",
   "execution_count": 6,
   "metadata": {},
   "outputs": [],
   "source": [
    "# get the default brain\n",
    "brain_name = env.brain_names[0]\n",
    "brain = env.brains[brain_name]"
   ]
  },
  {
   "cell_type": "markdown",
   "metadata": {},
   "source": [
    "### 2. Examine the State and Action Spaces\n",
    "\n",
    "The simulation contains a single agent that navigates a large environment.  At each time step, it has four actions at its disposal:\n",
    "- `0` - walk forward \n",
    "- `1` - walk backward\n",
    "- `2` - turn left\n",
    "- `3` - turn right\n",
    "\n",
    "The state space has `37` dimensions and contains the agent's velocity, along with ray-based perception of objects around agent's forward direction.  A reward of `+1` is provided for collecting a yellow banana, and a reward of `-1` is provided for collecting a blue banana. \n",
    "\n",
    "Run the code cell below to print some information about the environment."
   ]
  },
  {
   "cell_type": "code",
   "execution_count": 5,
   "metadata": {},
   "outputs": [
    {
     "name": "stdout",
     "output_type": "stream",
     "text": [
      "Number of agents: 1\n",
      "Number of actions: 4\n",
      "States look like: [ 1.          0.          0.          0.          0.84408134  0.          0.\n",
      "  1.          0.          0.0748472   0.          1.          0.          0.\n",
      "  0.25755     1.          0.          0.          0.          0.74177343\n",
      "  0.          1.          0.          0.          0.25854847  0.          0.\n",
      "  1.          0.          0.09355672  0.          1.          0.          0.\n",
      "  0.31969345  0.          0.        ]\n",
      "States have length: 37\n"
     ]
    }
   ],
   "source": [
    "# reset the environment\n",
    "env_info = env.reset(train_mode=True)[brain_name]\n",
    "\n",
    "# number of agents in the environment\n",
    "print('Number of agents:', len(env_info.agents))\n",
    "\n",
    "# number of actions\n",
    "action_size = brain.vector_action_space_size\n",
    "print('Number of actions:', action_size)\n",
    "\n",
    "# examine the state space \n",
    "state = env_info.vector_observations[0]\n",
    "print('States look like:', state)\n",
    "state_size = len(state)\n",
    "print('States have length:', state_size)\n"
   ]
  },
  {
   "cell_type": "markdown",
   "metadata": {},
   "source": [
    "### 3. Take Random Actions in the Environment\n",
    "\n",
    "In the next code cell, you will learn how to use the Python API to control the agent and receive feedback from the environment.\n",
    "\n",
    "Once this cell is executed, you will watch the agent's performance, if it selects an action (uniformly) at random with each time step.  A window should pop up that allows you to observe the agent, as it moves through the environment.  \n",
    "\n",
    "Of course, as part of the project, you'll have to change the code so that the agent is able to use its experience to gradually choose better actions when interacting with the environment!"
   ]
  },
  {
   "cell_type": "code",
   "execution_count": 6,
   "metadata": {},
   "outputs": [],
   "source": [
    "env_info = env.reset(train_mode=False)[brain_name] # reset the environment\n",
    "state = env_info.vector_observations[0]            # get the current state\n",
    "score = 0                                          # initialize the score\n",
    "while True:\n",
    "    action = np.random.randint(action_size)        # select an action\n",
    "    env_info = env.step(action)[brain_name]        # send the action to the environment\n",
    "    next_state = env_info.vector_observations[0]   # get the next state\n",
    "    reward = env_info.rewards[0]                   # get the reward\n",
    "    done = env_info.local_done[0]                  # see if episode has finished\n",
    "    score += reward                                # update the score\n",
    "    state = next_state                             # roll over the state to next time step\n",
    "    if done:                                       # exit loop if episode finished\n",
    "        break\n",
    "    \n",
    "print(\"Score: {}\".format(score))"
   ]
  },
  {
   "cell_type": "markdown",
   "metadata": {},
   "source": [
    "### 4. It's Your Turn!\n",
    "\n",
    "Now it's your turn to train your own agent to solve the environment!  When training the environment, set `train_mode=True`, so that the line for resetting the environment looks like the following:\n",
    "```python\n",
    "env_info = env.reset(train_mode=True)[brain_name]\n",
    "```"
   ]
  },
  {
   "cell_type": "code",
   "execution_count": 7,
   "metadata": {},
   "outputs": [
    {
     "name": "stdout",
     "output_type": "stream",
     "text": [
      "QNetwork(\n",
      "  (nn1): Linear(in_features=37, out_features=512, bias=True)\n",
      "  (nn2): Linear(in_features=512, out_features=128, bias=True)\n",
      "  (nn3): Linear(in_features=128, out_features=4, bias=True)\n",
      ")\n"
     ]
    }
   ],
   "source": [
    "import model\n",
    "importlib.reload(model)\n",
    "import dqn_agent\n",
    "importlib.reload(dqn_agent)\n",
    "\n",
    "agent = dqn_agent.Agent(state_size=37, action_size=4, seed=0, verbose=True)\n",
    "\n"
   ]
  },
  {
   "cell_type": "code",
   "execution_count": 10,
   "metadata": {},
   "outputs": [
    {
     "name": "stdout",
     "output_type": "stream",
     "text": [
      "Episode 100\tAverage Score: 0.34\n",
      "Episode 200\tAverage Score: 3.39\n",
      "Episode 300\tAverage Score: 6.82\n",
      "Episode 400\tAverage Score: 9.62\n",
      "Episode 500\tAverage Score: 11.79\n",
      "Episode 600\tAverage Score: 12.49\n",
      "Episode 700\tAverage Score: 14.16\n",
      "Episode 800\tAverage Score: 13.92\n",
      "Episode 900\tAverage Score: 15.19\n",
      "Episode 902\tAverage Score: 15.33\n",
      "Environment solved in 802 episodes!\tAverage Score: 15.33\n"
     ]
    },
    {
     "data": {
      "image/png": "[encoded data removed]",
      "text/plain": [
       "<matplotlib.figure.Figure at 0x7f949c450978>"
      ]
     },
     "metadata": {
      "needs_background": "light"
     },
     "output_type": "display_data"
    },
    {
     "data": {
      "text/plain": [
       "<matplotlib.figure.Figure at 0x7f9487999e48>"
      ]
     },
     "metadata": {},
     "output_type": "display_data"
    }
   ],
   "source": [
    "def dqn(n_episodes=900, max_t=5000, eps_start=1.0, eps_end=0.01, eps_decay=0.995):\n",
    "    \"\"\"Deep Q-Learning.\n",
    "    \n",
    "    Params\n",
    "    ======\n",
    "        n_episodes (int): maximum number of training episodes\n",
    "        max_t (int): maximum number of timesteps per episode\n",
    "        eps_start (float): starting value of epsilon, for epsilon-greedy action selection\n",
    "        eps_end (float): minimum value of epsilon\n",
    "        eps_decay (float): multiplicative factor (per episode) for decreasing epsilon\n",
    "    \"\"\"\n",
    "    scores = []                        # list containing scores from each episode\n",
    "    scores_window = deque(maxlen=100)  # last 100 scores\n",
    "    eps = eps_start                    # initialize epsilon\n",
    "    for i_episode in range(1, n_episodes+1):\n",
    "        env_info = env.reset(train_mode=True)[brain_name] # reset the environment\n",
    "        state = env_info.vector_observations[0]            # get the current state\n",
    "        score = 0                                          # initialize the score\n",
    "        while True:\n",
    "            action = agent.act(state, eps)        # select an action\n",
    "            \n",
    "            env_info = env.step(action)[brain_name]        # send the action to the environment\n",
    "            next_state = env_info.vector_observations[0]   # get the next state\n",
    "            reward = env_info.rewards[0]                   # get the reward\n",
    "            done = env_info.local_done[0]                  # see if episode has finished\n",
    "            \n",
    "            agent.step(state, action, reward, next_state, done)\n",
    "            \n",
    "            score += reward                                # update the score\n",
    "            state = next_state                             # roll over the state to next time step\n",
    "            if done:                                       # exit loop if episode finished\n",
    "                break\n",
    "        \n",
    "        scores_window.append(score)       # save most recent score\n",
    "        scores.append(score)              # save most recent score\n",
    "        eps = max(eps_end, eps_decay*eps) # decrease epsilon\n",
    "        print('\\rEpisode {}\\tAverage Score: {:.2f}'.format(i_episode, np.mean(scores_window)), end=\"\")\n",
    "        if i_episode % 100 == 0:\n",
    "            print('\\rEpisode {}\\tAverage Score: {:.2f}'.format(i_episode, np.mean(scores_window)))\n",
    "            with open('progress.txt', 'a') as f:\n",
    "                f.write('\\nEpisode {}\\tAverage Score: {:.2f}'.format(i_episode, np.mean(scores_window)))\n",
    "        if np.mean(scores_window)>=13.0:\n",
    "            print('\\nEnvironment solved in {:d} episodes!\\tAverage Score: {:.2f}'.format(i_episode-100, np.mean(scores_window)))\n",
    "            torch.save(agent.qnetwork_local.state_dict(), 'qnet_checkpoint.pth')\n",
    "            break\n",
    "    return scores\n",
    "\n",
    "scores = dqn()\n",
    "\n",
    "# plot the scores\n",
    "fig = plt.figure()\n",
    "ax = fig.add_subplot(111)\n",
    "plt.plot(np.arange(len(scores)), scores)\n",
    "plt.ylabel('Score')\n",
    "plt.xlabel('Episode #')\n",
    "plt.show()\n",
    "plt.savefig('bananna_navigator_loss.png')\n",
    "\n",
    "torch.save(agent.qnetwork_local.state_dict(), 'qnet_checkpoint.pth')\n"
   ]
  },
  {
   "cell_type": "code",
   "execution_count": 11,
   "metadata": {},
   "outputs": [],
   "source": [
    "# Perform a final save.\n",
    "torch.save(agent.qnetwork_local.state_dict(), 'qnet_checkpoint.pth')\n"
   ]
  },
  {
   "cell_type": "code",
   "execution_count": 8,
   "metadata": {},
   "outputs": [],
   "source": [
    "# Load the previously saved qnet.\n",
    "agent.qnetwork_local.load_state_dict(torch.load('final_qnet_checkpoint.pth'))\n"
   ]
  },
  {
   "cell_type": "code",
   "execution_count": 11,
   "metadata": {},
   "outputs": [
    {
     "name": "stdout",
     "output_type": "stream",
     "text": [
      "Episode 0\tAverage Score: 19.00\n",
      "Episode 1\tAverage Score: 18.00\n",
      "Episode 2\tAverage Score: 18.67\n",
      "Episode 3\tAverage Score: 18.50\n",
      "Episode 4\tAverage Score: 14.80\n",
      "Episode 5\tAverage Score: 14.83\n",
      "Episode 6\tAverage Score: 13.57\n",
      "Episode 7\tAverage Score: 13.62\n",
      "Episode 8\tAverage Score: 14.33\n",
      "Episode 9\tAverage Score: 14.10\n",
      "Episode 10\tAverage Score: 14.09\n",
      "Episode 11\tAverage Score: 13.75\n",
      "Episode 12\tAverage Score: 13.00\n",
      "Episode 13\tAverage Score: 13.00\n",
      "Episode 14\tAverage Score: 13.60\n",
      "Episode 15\tAverage Score: 13.88\n",
      "Episode 16\tAverage Score: 14.24\n",
      "Episode 17\tAverage Score: 14.56\n",
      "Episode 18\tAverage Score: 14.53\n",
      "Episode 19\tAverage Score: 14.65\n",
      "Episode 20\tAverage Score: 14.38\n",
      "Episode 21\tAverage Score: 14.50\n",
      "Episode 22\tAverage Score: 14.43\n",
      "Episode 23\tAverage Score: 14.33\n",
      "Episode 24\tAverage Score: 14.16\n",
      "Episode 25\tAverage Score: 14.12\n",
      "Episode 26\tAverage Score: 13.81\n",
      "Episode 27\tAverage Score: 14.04\n",
      "Episode 28\tAverage Score: 13.76\n",
      "Episode 29\tAverage Score: 13.87\n",
      "Episode 30\tAverage Score: 13.97\n",
      "Episode 31\tAverage Score: 14.09\n",
      "Episode 32\tAverage Score: 14.18\n",
      "Episode 33\tAverage Score: 14.18\n",
      "Episode 34\tAverage Score: 14.26\n",
      "Episode 35\tAverage Score: 14.25\n",
      "Episode 36\tAverage Score: 14.24\n",
      "Episode 37\tAverage Score: 14.24\n",
      "Episode 38\tAverage Score: 14.33\n",
      "Episode 39\tAverage Score: 14.32\n",
      "Episode 40\tAverage Score: 14.44\n",
      "Episode 41\tAverage Score: 14.40\n",
      "Episode 42\tAverage Score: 14.53\n",
      "Episode 43\tAverage Score: 14.64\n",
      "Episode 44\tAverage Score: 14.73\n",
      "Episode 45\tAverage Score: 14.61\n",
      "Episode 46\tAverage Score: 14.68\n",
      "Episode 47\tAverage Score: 14.69\n",
      "Episode 48\tAverage Score: 14.67\n",
      "Episode 49\tAverage Score: 14.82\n",
      "Episode 50\tAverage Score: 14.80\n",
      "Episode 51\tAverage Score: 14.87\n",
      "Episode 52\tAverage Score: 14.91\n",
      "Episode 53\tAverage Score: 14.91\n",
      "Episode 54\tAverage Score: 14.95\n",
      "Episode 55\tAverage Score: 14.98\n",
      "Episode 56\tAverage Score: 15.05\n",
      "Episode 57\tAverage Score: 14.95\n",
      "Episode 58\tAverage Score: 14.69\n",
      "Episode 59\tAverage Score: 14.75\n",
      "Episode 60\tAverage Score: 14.70\n",
      "Episode 61\tAverage Score: 14.48\n",
      "Episode 62\tAverage Score: 14.56\n",
      "Episode 63\tAverage Score: 14.67\n",
      "Episode 64\tAverage Score: 14.48\n",
      "Episode 65\tAverage Score: 14.27\n",
      "Episode 66\tAverage Score: 14.25\n",
      "Episode 67\tAverage Score: 14.24\n",
      "Episode 68\tAverage Score: 14.35\n",
      "Episode 69\tAverage Score: 14.34\n",
      "Episode 70\tAverage Score: 14.31\n",
      "Episode 71\tAverage Score: 14.33\n",
      "Episode 72\tAverage Score: 14.16\n",
      "Episode 73\tAverage Score: 14.20\n",
      "Episode 74\tAverage Score: 14.16\n",
      "Episode 75\tAverage Score: 14.04\n",
      "Episode 76\tAverage Score: 14.12\n",
      "Episode 77\tAverage Score: 14.09\n",
      "Episode 78\tAverage Score: 14.16\n",
      "Episode 79\tAverage Score: 14.25\n",
      "Episode 80\tAverage Score: 14.30\n",
      "Episode 81\tAverage Score: 14.37\n",
      "Episode 82\tAverage Score: 14.34\n",
      "Episode 83\tAverage Score: 14.33\n",
      "Episode 84\tAverage Score: 14.36\n",
      "Episode 85\tAverage Score: 14.40\n",
      "Episode 86\tAverage Score: 14.38\n",
      "Episode 87\tAverage Score: 14.43\n",
      "Episode 88\tAverage Score: 14.47\n",
      "Episode 89\tAverage Score: 14.44\n",
      "Episode 90\tAverage Score: 14.34\n",
      "Episode 91\tAverage Score: 14.45\n",
      "Episode 92\tAverage Score: 14.41\n",
      "Episode 93\tAverage Score: 14.51\n",
      "Episode 94\tAverage Score: 14.60\n",
      "Episode 95\tAverage Score: 14.62\n",
      "Episode 96\tAverage Score: 14.68\n",
      "Episode 97\tAverage Score: 14.69\n",
      "Episode 98\tAverage Score: 14.72\n",
      "Episode 99\tAverage Score: 14.72\n"
     ]
    }
   ],
   "source": [
    "score_list = []\n",
    "\n",
    "for i in range(100):\n",
    "    env_info = env.reset(train_mode=True)[brain_name] # reset the environment\n",
    "    state = env_info.vector_observations[0]            # get the current state\n",
    "    score = 0                                          # initialize the score\n",
    "    while True:\n",
    "        action = agent.act(state, eps=0)               # select an action\n",
    "\n",
    "        env_info = env.step(action)[brain_name]        # send the action to the environment\n",
    "        next_state = env_info.vector_observations[0]   # get the next state\n",
    "        reward = env_info.rewards[0]                   # get the reward\n",
    "        done = env_info.local_done[0]                  # see if episode has finished\n",
    "\n",
    "        score += reward                                # update the score\n",
    "        state = next_state                             # roll over the state to next time step\n",
    "        if done:                                       # exit loop if episode finished\n",
    "            break\n",
    "    score_list.append(score)\n",
    "    print('\\rEpisode {}\\tAverage Score: {:.2f}'.format(i, np.mean(score_list)))\n"
   ]
  },
  {
   "cell_type": "code",
   "execution_count": null,
   "metadata": {},
   "outputs": [],
   "source": [
    "env.close()\n"
   ]
  },
  {
   "cell_type": "code",
   "execution_count": null,
   "metadata": {},
   "outputs": [],
   "source": [
    "\n"
   ]
  },
  {
   "cell_type": "code",
   "execution_count": null,
   "metadata": {},
   "outputs": [],
   "source": [
    "\n"
   ]
  },
  {
   "cell_type": "code",
   "execution_count": null,
   "metadata": {},
   "outputs": [],
   "source": [
    "\n"
   ]
  },
  {
   "cell_type": "code",
   "execution_count": null,
   "metadata": {},
   "outputs": [],
   "source": [
    "\n"
   ]
  },
  {
   "cell_type": "code",
   "execution_count": null,
   "metadata": {},
   "outputs": [],
   "source": [
    "\n"
   ]
  },
  {
   "cell_type": "code",
   "execution_count": null,
   "metadata": {},
   "outputs": [],
   "source": [
    "\n"
   ]
  },
  {
   "cell_type": "code",
   "execution_count": null,
   "metadata": {},
   "outputs": [],
   "source": [
    "\n"
   ]
  },
  {
   "cell_type": "code",
   "execution_count": null,
   "metadata": {},
   "outputs": [],
   "source": [
    "\n"
   ]
  },
  {
   "cell_type": "code",
   "execution_count": null,
   "metadata": {},
   "outputs": [],
   "source": [
    "\n"
   ]
  }
 ],
 "metadata": {
  "kernelspec": {
   "display_name": "Python 3",
   "language": "python",
   "name": "python3"
  },
  "language_info": {
   "codemirror_mode": {
    "name": "ipython",
    "version": 3
   },
   "file_extension": ".py",
   "mimetype": "text/x-python",
   "name": "python",
   "nbconvert_exporter": "python",
   "pygments_lexer": "ipython3",
   "version": "3.6.5"
  }
 },
 "nbformat": 4,
 "nbformat_minor": 2
}
